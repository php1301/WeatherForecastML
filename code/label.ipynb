{
 "cells": [
  {
   "cell_type": "code",
   "execution_count": 1,
   "metadata": {},
   "outputs": [],
   "source": [
    "import numpy as np\n",
    "import pandas as pd"
   ]
  },
  {
   "cell_type": "code",
   "execution_count": 25,
   "metadata": {},
   "outputs": [
    {
     "data": {
      "text/html": [
       "<div>\n",
       "<style scoped>\n",
       "    .dataframe tbody tr th:only-of-type {\n",
       "        vertical-align: middle;\n",
       "    }\n",
       "\n",
       "    .dataframe tbody tr th {\n",
       "        vertical-align: top;\n",
       "    }\n",
       "\n",
       "    .dataframe thead th {\n",
       "        text-align: right;\n",
       "    }\n",
       "</style>\n",
       "<table border=\"1\" class=\"dataframe\">\n",
       "  <thead>\n",
       "    <tr style=\"text-align: right;\">\n",
       "      <th></th>\n",
       "      <th>time</th>\n",
       "      <th>month</th>\n",
       "      <th>temperature</th>\n",
       "      <th>feelslike</th>\n",
       "      <th>wind</th>\n",
       "      <th>direction</th>\n",
       "      <th>gust</th>\n",
       "      <th>cloud</th>\n",
       "      <th>humidity</th>\n",
       "      <th>precipitation</th>\n",
       "      <th>pressure</th>\n",
       "      <th>weather</th>\n",
       "    </tr>\n",
       "  </thead>\n",
       "  <tbody>\n",
       "    <tr>\n",
       "      <th>0</th>\n",
       "      <td>0:00</td>\n",
       "      <td>1</td>\n",
       "      <td>24.0</td>\n",
       "      <td>28.0</td>\n",
       "      <td>8.0</td>\n",
       "      <td>ENE</td>\n",
       "      <td>12.0</td>\n",
       "      <td>4.0</td>\n",
       "      <td>86.0</td>\n",
       "      <td>0.0</td>\n",
       "      <td>1012.0</td>\n",
       "      <td>Clear</td>\n",
       "    </tr>\n",
       "    <tr>\n",
       "      <th>1</th>\n",
       "      <td>3:00</td>\n",
       "      <td>1</td>\n",
       "      <td>23.0</td>\n",
       "      <td>27.0</td>\n",
       "      <td>8.0</td>\n",
       "      <td>NE</td>\n",
       "      <td>10.0</td>\n",
       "      <td>4.0</td>\n",
       "      <td>88.0</td>\n",
       "      <td>0.0</td>\n",
       "      <td>1011.0</td>\n",
       "      <td>Clear</td>\n",
       "    </tr>\n",
       "    <tr>\n",
       "      <th>2</th>\n",
       "      <td>6:00</td>\n",
       "      <td>1</td>\n",
       "      <td>23.0</td>\n",
       "      <td>26.0</td>\n",
       "      <td>8.0</td>\n",
       "      <td>NNE</td>\n",
       "      <td>11.0</td>\n",
       "      <td>7.0</td>\n",
       "      <td>85.0</td>\n",
       "      <td>0.0</td>\n",
       "      <td>1012.0</td>\n",
       "      <td>Sunny</td>\n",
       "    </tr>\n",
       "    <tr>\n",
       "      <th>3</th>\n",
       "      <td>9:00</td>\n",
       "      <td>1</td>\n",
       "      <td>28.0</td>\n",
       "      <td>33.0</td>\n",
       "      <td>11.0</td>\n",
       "      <td>NNE</td>\n",
       "      <td>13.0</td>\n",
       "      <td>6.0</td>\n",
       "      <td>64.0</td>\n",
       "      <td>0.0</td>\n",
       "      <td>1012.0</td>\n",
       "      <td>Sunny</td>\n",
       "    </tr>\n",
       "    <tr>\n",
       "      <th>4</th>\n",
       "      <td>12:00</td>\n",
       "      <td>1</td>\n",
       "      <td>31.0</td>\n",
       "      <td>35.0</td>\n",
       "      <td>10.0</td>\n",
       "      <td>ENE</td>\n",
       "      <td>12.0</td>\n",
       "      <td>62.0</td>\n",
       "      <td>53.0</td>\n",
       "      <td>0.0</td>\n",
       "      <td>1010.0</td>\n",
       "      <td>Partly cloudy</td>\n",
       "    </tr>\n",
       "  </tbody>\n",
       "</table>\n",
       "</div>"
      ],
      "text/plain": [
       "    time  month  temperature  feelslike  wind direction  gust  cloud  \\\n",
       "0   0:00      1         24.0       28.0   8.0       ENE  12.0    4.0   \n",
       "1   3:00      1         23.0       27.0   8.0        NE  10.0    4.0   \n",
       "2   6:00      1         23.0       26.0   8.0       NNE  11.0    7.0   \n",
       "3   9:00      1         28.0       33.0  11.0       NNE  13.0    6.0   \n",
       "4  12:00      1         31.0       35.0  10.0       ENE  12.0   62.0   \n",
       "\n",
       "   humidity  precipitation  pressure        weather  \n",
       "0      86.0            0.0    1012.0          Clear  \n",
       "1      88.0            0.0    1011.0          Clear  \n",
       "2      85.0            0.0    1012.0          Sunny  \n",
       "3      64.0            0.0    1012.0          Sunny  \n",
       "4      53.0            0.0    1010.0  Partly cloudy  "
      ]
     },
     "execution_count": 25,
     "metadata": {},
     "output_type": "execute_result"
    }
   ],
   "source": [
    "#do quá trình kiểm tra file weather_data.csv nhóm mình đã phân chia cột ra để dễ kiểm tra dữ liệu\n",
    "#nên nếu muốn code hoạt động thì hãy vào file data và chia cột file csv (theo tab)\n",
    "data = pd.read_csv(\"weather_data.csv\", delimiter = ';')\n",
    "data.head()"
   ]
  },
  {
   "cell_type": "code",
   "execution_count": 26,
   "metadata": {},
   "outputs": [
    {
     "name": "stdout",
     "output_type": "stream",
     "text": [
      "<class 'pandas.core.frame.DataFrame'>\n",
      "RangeIndex: 8512 entries, 0 to 8511\n",
      "Data columns (total 12 columns):\n",
      "time             8512 non-null object\n",
      "month            8512 non-null int64\n",
      "temperature      8512 non-null float64\n",
      "feelslike        8512 non-null float64\n",
      "wind             8512 non-null float64\n",
      "direction        8512 non-null object\n",
      "gust             8512 non-null float64\n",
      "cloud            8512 non-null float64\n",
      "humidity         8512 non-null float64\n",
      "precipitation    8512 non-null float64\n",
      "pressure         8512 non-null float64\n",
      "weather          8512 non-null object\n",
      "dtypes: float64(8), int64(1), object(3)\n",
      "memory usage: 798.1+ KB\n"
     ]
    }
   ],
   "source": [
    "data.info()"
   ]
  },
  {
   "cell_type": "markdown",
   "metadata": {},
   "source": [
    "# Nhận xét\n",
    "Dữ liệu không có trống nhưng ta kiểm tra xem có giá trị nào bằng 0.0 hay không"
   ]
  },
  {
   "cell_type": "code",
   "execution_count": 28,
   "metadata": {},
   "outputs": [
    {
     "data": {
      "text/plain": [
       "5"
      ]
     },
     "execution_count": 28,
     "metadata": {},
     "output_type": "execute_result"
    }
   ],
   "source": [
    "len(data[data['temperature']== 0.0])"
   ]
  },
  {
   "cell_type": "code",
   "execution_count": 29,
   "metadata": {},
   "outputs": [
    {
     "data": {
      "text/plain": [
       "0"
      ]
     },
     "execution_count": 29,
     "metadata": {},
     "output_type": "execute_result"
    }
   ],
   "source": [
    "len(data[data['feelslike']== 0.0])"
   ]
  },
  {
   "cell_type": "code",
   "execution_count": 30,
   "metadata": {},
   "outputs": [
    {
     "data": {
      "text/plain": [
       "9"
      ]
     },
     "execution_count": 30,
     "metadata": {},
     "output_type": "execute_result"
    }
   ],
   "source": [
    "len(data[data['wind']== 0.0])"
   ]
  },
  {
   "cell_type": "code",
   "execution_count": 31,
   "metadata": {},
   "outputs": [
    {
     "data": {
      "text/plain": [
       "0"
      ]
     },
     "execution_count": 31,
     "metadata": {},
     "output_type": "execute_result"
    }
   ],
   "source": [
    "len(data[data['direction']== 0.0])"
   ]
  },
  {
   "cell_type": "code",
   "execution_count": 32,
   "metadata": {},
   "outputs": [
    {
     "data": {
      "text/plain": [
       "7"
      ]
     },
     "execution_count": 32,
     "metadata": {},
     "output_type": "execute_result"
    }
   ],
   "source": [
    "len(data[data['gust']== 0.0])"
   ]
  },
  {
   "cell_type": "code",
   "execution_count": 33,
   "metadata": {},
   "outputs": [
    {
     "data": {
      "text/plain": [
       "147"
      ]
     },
     "execution_count": 33,
     "metadata": {},
     "output_type": "execute_result"
    }
   ],
   "source": [
    "len(data[data['cloud']== 0.0])"
   ]
  },
  {
   "cell_type": "code",
   "execution_count": 34,
   "metadata": {
    "scrolled": true
   },
   "outputs": [
    {
     "data": {
      "text/plain": [
       "0"
      ]
     },
     "execution_count": 34,
     "metadata": {},
     "output_type": "execute_result"
    }
   ],
   "source": [
    "len(data[data['humidity']== 0.0])"
   ]
  },
  {
   "cell_type": "code",
   "execution_count": 36,
   "metadata": {},
   "outputs": [
    {
     "data": {
      "text/plain": [
       "6254"
      ]
     },
     "execution_count": 36,
     "metadata": {},
     "output_type": "execute_result"
    }
   ],
   "source": [
    "len(data[data['precipitation']== 0.0])"
   ]
  },
  {
   "cell_type": "code",
   "execution_count": 35,
   "metadata": {
    "scrolled": true
   },
   "outputs": [
    {
     "data": {
      "text/plain": [
       "0"
      ]
     },
     "execution_count": 35,
     "metadata": {},
     "output_type": "execute_result"
    }
   ],
   "source": [
    "len(data[data['pressure']== 0.0])"
   ]
  },
  {
   "cell_type": "markdown",
   "metadata": {},
   "source": [
    "# Nhận xét\n",
    "Có một số dữ liệu là 0.0 nhưng hầu hết là hợp lý\n",
    "trừ trường hợp của \"temperature\" vì TPHCM không bao giờ có nhiệt độ là 0 độ C cả\n",
    "\n",
    "Do feelslike có giá trị chênh lệch không nhiều so với temperature nên ta tạm lấy feelslike bù vào 1 số giá trị 0.0 của temperature"
   ]
  },
  {
   "cell_type": "code",
   "execution_count": 37,
   "metadata": {},
   "outputs": [
    {
     "data": {
      "text/html": [
       "<div>\n",
       "<style scoped>\n",
       "    .dataframe tbody tr th:only-of-type {\n",
       "        vertical-align: middle;\n",
       "    }\n",
       "\n",
       "    .dataframe tbody tr th {\n",
       "        vertical-align: top;\n",
       "    }\n",
       "\n",
       "    .dataframe thead th {\n",
       "        text-align: right;\n",
       "    }\n",
       "</style>\n",
       "<table border=\"1\" class=\"dataframe\">\n",
       "  <thead>\n",
       "    <tr style=\"text-align: right;\">\n",
       "      <th></th>\n",
       "      <th>time</th>\n",
       "      <th>month</th>\n",
       "      <th>temperature</th>\n",
       "      <th>feelslike</th>\n",
       "      <th>wind</th>\n",
       "      <th>direction</th>\n",
       "      <th>gust</th>\n",
       "      <th>cloud</th>\n",
       "      <th>humidity</th>\n",
       "      <th>precipitation</th>\n",
       "      <th>pressure</th>\n",
       "      <th>weather</th>\n",
       "    </tr>\n",
       "  </thead>\n",
       "  <tbody>\n",
       "    <tr>\n",
       "      <th>7908</th>\n",
       "      <td>12:00</td>\n",
       "      <td>9</td>\n",
       "      <td>0.0</td>\n",
       "      <td>30.0</td>\n",
       "      <td>15.0</td>\n",
       "      <td>SW</td>\n",
       "      <td>23.0</td>\n",
       "      <td>87.0</td>\n",
       "      <td>72.0</td>\n",
       "      <td>2.5</td>\n",
       "      <td>1007.0</td>\n",
       "      <td>Light rain shower</td>\n",
       "    </tr>\n",
       "    <tr>\n",
       "      <th>7909</th>\n",
       "      <td>15:00</td>\n",
       "      <td>9</td>\n",
       "      <td>0.0</td>\n",
       "      <td>29.0</td>\n",
       "      <td>19.0</td>\n",
       "      <td>SW</td>\n",
       "      <td>36.0</td>\n",
       "      <td>76.0</td>\n",
       "      <td>77.0</td>\n",
       "      <td>5.8</td>\n",
       "      <td>1005.0</td>\n",
       "      <td>Moderate or heavy rain shower</td>\n",
       "    </tr>\n",
       "    <tr>\n",
       "      <th>7910</th>\n",
       "      <td>18:00</td>\n",
       "      <td>9</td>\n",
       "      <td>0.0</td>\n",
       "      <td>27.0</td>\n",
       "      <td>18.0</td>\n",
       "      <td>SSW</td>\n",
       "      <td>37.0</td>\n",
       "      <td>65.0</td>\n",
       "      <td>84.0</td>\n",
       "      <td>0.2</td>\n",
       "      <td>1006.0</td>\n",
       "      <td>Moderate or heavy rain shower</td>\n",
       "    </tr>\n",
       "    <tr>\n",
       "      <th>7911</th>\n",
       "      <td>21:00</td>\n",
       "      <td>9</td>\n",
       "      <td>0.0</td>\n",
       "      <td>26.0</td>\n",
       "      <td>16.0</td>\n",
       "      <td>SW</td>\n",
       "      <td>32.0</td>\n",
       "      <td>58.0</td>\n",
       "      <td>87.0</td>\n",
       "      <td>7.9</td>\n",
       "      <td>1008.0</td>\n",
       "      <td>Torrential rain shower</td>\n",
       "    </tr>\n",
       "    <tr>\n",
       "      <th>7912</th>\n",
       "      <td>0:00</td>\n",
       "      <td>9</td>\n",
       "      <td>0.0</td>\n",
       "      <td>25.0</td>\n",
       "      <td>13.0</td>\n",
       "      <td>SW</td>\n",
       "      <td>27.0</td>\n",
       "      <td>75.0</td>\n",
       "      <td>90.0</td>\n",
       "      <td>8.4</td>\n",
       "      <td>1008.0</td>\n",
       "      <td>Moderate or heavy rain shower</td>\n",
       "    </tr>\n",
       "  </tbody>\n",
       "</table>\n",
       "</div>"
      ],
      "text/plain": [
       "       time  month  temperature  feelslike  wind direction  gust  cloud  \\\n",
       "7908  12:00      9          0.0       30.0  15.0        SW  23.0   87.0   \n",
       "7909  15:00      9          0.0       29.0  19.0        SW  36.0   76.0   \n",
       "7910  18:00      9          0.0       27.0  18.0       SSW  37.0   65.0   \n",
       "7911  21:00      9          0.0       26.0  16.0        SW  32.0   58.0   \n",
       "7912   0:00      9          0.0       25.0  13.0        SW  27.0   75.0   \n",
       "\n",
       "      humidity  precipitation  pressure                        weather  \n",
       "7908      72.0            2.5    1007.0              Light rain shower  \n",
       "7909      77.0            5.8    1005.0  Moderate or heavy rain shower  \n",
       "7910      84.0            0.2    1006.0  Moderate or heavy rain shower  \n",
       "7911      87.0            7.9    1008.0         Torrential rain shower  \n",
       "7912      90.0            8.4    1008.0  Moderate or heavy rain shower  "
      ]
     },
     "execution_count": 37,
     "metadata": {},
     "output_type": "execute_result"
    }
   ],
   "source": [
    "data[data['temperature']==0.0]"
   ]
  },
  {
   "cell_type": "code",
   "execution_count": 39,
   "metadata": {},
   "outputs": [
    {
     "name": "stderr",
     "output_type": "stream",
     "text": [
      "C:\\Users\\DELL\\Anaconda3\\lib\\site-packages\\ipykernel_launcher.py:2: SettingWithCopyWarning: \n",
      "A value is trying to be set on a copy of a slice from a DataFrame\n",
      "\n",
      "See the caveats in the documentation: http://pandas.pydata.org/pandas-docs/stable/indexing.html#indexing-view-versus-copy\n",
      "  \n"
     ]
    }
   ],
   "source": [
    "for i in [7908,7909,7910,7911,7912]:\n",
    "    data['temperature'][i] = data['feelslike'][i]"
   ]
  },
  {
   "cell_type": "markdown",
   "metadata": {},
   "source": [
    "# Gán nhãn"
   ]
  },
  {
   "cell_type": "markdown",
   "metadata": {},
   "source": [
    "Khảo sát giá trị"
   ]
  },
  {
   "cell_type": "code",
   "execution_count": 42,
   "metadata": {},
   "outputs": [],
   "source": [
    "list_w = set()\n",
    "for i in range (len(data)):\n",
    "    list_w.add(data['weather'][i])"
   ]
  },
  {
   "cell_type": "code",
   "execution_count": 43,
   "metadata": {
    "scrolled": true
   },
   "outputs": [
    {
     "data": {
      "text/plain": [
       "{'Clear',\n",
       " 'Cloudy',\n",
       " 'Heavy rain',\n",
       " 'Heavy rain at times',\n",
       " 'Light drizzle',\n",
       " 'Light rain',\n",
       " 'Light rain shower',\n",
       " 'Mist',\n",
       " 'Moderate or heavy rain shower',\n",
       " 'Moderate rain',\n",
       " 'Moderate rain at times',\n",
       " 'Overcast',\n",
       " 'Partly cloudy',\n",
       " 'Patchy light drizzle',\n",
       " 'Patchy light rain',\n",
       " 'Patchy light rain with thunder',\n",
       " 'Patchy rain possible',\n",
       " 'Sunny',\n",
       " 'Thundery outbreaks possible',\n",
       " 'Torrential rain shower'}"
      ]
     },
     "execution_count": 43,
     "metadata": {},
     "output_type": "execute_result"
    }
   ],
   "source": [
    "list_w"
   ]
  },
  {
   "cell_type": "code",
   "execution_count": 45,
   "metadata": {},
   "outputs": [
    {
     "data": {
      "text/plain": [
       "time                     21:00\n",
       "month                       11\n",
       "temperature                 27\n",
       "feelslike                   30\n",
       "wind                         7\n",
       "direction                   SE\n",
       "gust                        10\n",
       "cloud                       33\n",
       "humidity                    75\n",
       "precipitation                0\n",
       "pressure                  1011\n",
       "weather          Partly cloudy\n",
       "Name: 8511, dtype: object"
      ]
     },
     "execution_count": 45,
     "metadata": {},
     "output_type": "execute_result"
    }
   ],
   "source": [
    "data.iloc[8511]"
   ]
  },
  {
   "cell_type": "code",
   "execution_count": 46,
   "metadata": {},
   "outputs": [],
   "source": [
    "# gán giá trị của cột sau vào label của cột hiện tại\n",
    "x = data.weather.iloc[data.index>0]\n",
    "data = data.drop(8511)\n",
    "data = data.assign(label = x.values)"
   ]
  },
  {
   "cell_type": "code",
   "execution_count": 50,
   "metadata": {},
   "outputs": [],
   "source": [
    "#lưu data vào 1 file khác\n",
    "filename = \"labeled_weather_data.csv\"\n",
    "with open(filename,\"w\") as f:\n",
    "    f.write('time\\tmonth\\ttemperature\\tfeelslike\\twind\\tdirection\\tgust\\tcloud\\thumidity\\tprecipitation\\tpressure\\tweather\\tlabel\\n')\n",
    "    for i in range(len(data)):\n",
    "        f.write(f\"{data['time'][i]}\\t{data['month'][i]}\\t{data['temperature'][i]}\\t{data['feelslike'][i]}\\t{data['wind'][i]}\\t{data['direction'][i]}\\t{data['gust'][i]}\\t{data['cloud'][i]}\\t{data['humidity'][i]}\\t{data['precipitation'][i]}\\t{data['pressure'][i]}\\t{data['weather'][i]}\\t{data['label'][i]}\\n\")\n",
    "        "
   ]
  }
 ],
 "metadata": {
  "kernelspec": {
   "display_name": "Python 3",
   "language": "python",
   "name": "python3"
  },
  "language_info": {
   "codemirror_mode": {
    "name": "ipython",
    "version": 3
   },
   "file_extension": ".py",
   "mimetype": "text/x-python",
   "name": "python",
   "nbconvert_exporter": "python",
   "pygments_lexer": "ipython3",
   "version": "3.6.5"
  }
 },
 "nbformat": 4,
 "nbformat_minor": 2
}
